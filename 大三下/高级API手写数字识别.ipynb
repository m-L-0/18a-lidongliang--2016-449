{
 "cells": [
  {
   "cell_type": "code",
   "execution_count": 54,
   "metadata": {},
   "outputs": [],
   "source": [
    "import numpy as np\n",
    "import tensorflow as tf\n",
    "from tensorflow.examples.tutorials.mnist import input_data"
   ]
  },
  {
   "cell_type": "code",
   "execution_count": 55,
   "metadata": {},
   "outputs": [
    {
     "name": "stdout",
     "output_type": "stream",
     "text": [
      "Extracting MNIST_data\\train-images-idx3-ubyte.gz\n",
      "Extracting MNIST_data\\train-labels-idx1-ubyte.gz\n",
      "Extracting MNIST_data\\t10k-images-idx3-ubyte.gz\n",
      "Extracting MNIST_data\\t10k-labels-idx1-ubyte.gz\n"
     ]
    }
   ],
   "source": [
    "mnist = input_data.read_data_sets(\"MNIST_data\", one_hot=True)"
   ]
  },
  {
   "cell_type": "code",
   "execution_count": 58,
   "metadata": {},
   "outputs": [],
   "source": [
    "with tf.Graph().as_default() as g:\n",
    "    # 输入、标记占位符\n",
    "    inputs = tf.placeholder(shape=[None, 784], dtype=tf.float32)\n",
    "    labels = tf.placeholder(shape=[None, 10], dtype=tf.float32)\n",
    "    \n",
    "    # 隐藏层与输出层\n",
    "    hidden_output = tf.keras.layers.Dense(\n",
    "        128, activation=tf.nn.relu)(inputs)\n",
    "    \n",
    "    logits = tf.keras.layers.Dense(\n",
    "        10, activation=None)(hidden_output)\n",
    "    output = tf.nn.softmax(logits)\n",
    "    \n",
    "    # 代价函数\n",
    "    loss = tf.reduce_mean(tf.nn.softmax_cross_entropy_with_logits_v2(\n",
    "        logits=logits, labels=labels, dim=1))\n",
    "    \n",
    "    # 正确率\n",
    "    acc = tf.reduce_mean(\n",
    "        tf.cast(tf.equal(tf.argmax(labels, axis=1), tf.argmax(output, axis=1)),\n",
    "                tf.float32))\n"
   ]
  },
  {
   "cell_type": "code",
   "execution_count": 59,
   "metadata": {},
   "outputs": [
    {
     "name": "stdout",
     "output_type": "stream",
     "text": [
      "step     0, loss 2.3601, acc 0.0842\n",
      "step   500, loss 0.6625, acc 0.8606\n",
      "step  1000, loss 0.6482, acc 0.8858\n",
      "step  1500, loss 0.3366, acc 0.8977\n",
      "step  2000, loss 0.5548, acc 0.9025\n",
      "step  2500, loss 0.3948, acc 0.9091\n",
      "step  3000, loss 0.4865, acc 0.9130\n",
      "step  3500, loss 0.4794, acc 0.9161\n",
      "step  4000, loss 0.2512, acc 0.9190\n",
      "step  4500, loss 0.2057, acc 0.9209\n",
      "step  5000, loss 0.2308, acc 0.9239\n",
      "step  5500, loss 0.3330, acc 0.9276\n",
      "step  6000, loss 0.2190, acc 0.9278\n",
      "step  6500, loss 0.2978, acc 0.9308\n",
      "step  7000, loss 0.2140, acc 0.9307\n",
      "step  7500, loss 0.0854, acc 0.9332\n",
      "step  8000, loss 0.1907, acc 0.9330\n",
      "step  8500, loss 0.0369, acc 0.9354\n",
      "step  9000, loss 0.2847, acc 0.9354\n",
      "step  9500, loss 0.2521, acc 0.9368\n",
      "step 10000, loss 0.1688, acc 0.9378\n",
      "step 10500, loss 0.0906, acc 0.9385\n",
      "step 11000, loss 0.2758, acc 0.9405\n",
      "step 11500, loss 0.1436, acc 0.9402\n",
      "step 12000, loss 0.1392, acc 0.9417\n",
      "step 12500, loss 0.2789, acc 0.9417\n",
      "step 13000, loss 0.3588, acc 0.9429\n",
      "step 13500, loss 0.1084, acc 0.9449\n",
      "step 14000, loss 0.3020, acc 0.9447\n",
      "step 14500, loss 0.1887, acc 0.9439\n",
      "step 15000, loss 0.1263, acc 0.9454\n",
      "step 15500, loss 0.0648, acc 0.9474\n",
      "step 16000, loss 0.3153, acc 0.9476\n",
      "step 16500, loss 0.1560, acc 0.9478\n",
      "step 17000, loss 0.1296, acc 0.9474\n",
      "step 17500, loss 0.1970, acc 0.9499\n",
      "step 18000, loss 0.1260, acc 0.9499\n",
      "step 18500, loss 0.0417, acc 0.9492\n",
      "step 19000, loss 0.1392, acc 0.9512\n",
      "step 19500, loss 0.0814, acc 0.9507\n"
     ]
    }
   ],
   "source": [
    "with tf.Graph().as_default() as g:\n",
    "    # 输入、标记占位符\n",
    "    inputs = tf.placeholder(shape=[None, 784], dtype=tf.float32)\n",
    "    labels = tf.placeholder(shape=[None, 10], dtype=tf.float32)\n",
    "    \n",
    "    # 隐藏层与输出层\n",
    "    hidden_output = tf.keras.layers.Dense(\n",
    "        128, activation=tf.nn.relu)(inputs)\n",
    "    \n",
    "    logits = tf.keras.layers.Dense(\n",
    "        10, activation=None)(hidden_output)\n",
    "    output = tf.nn.softmax(logits)\n",
    "    \n",
    "    # 代价函数\n",
    "    loss = tf.reduce_mean(tf.nn.softmax_cross_entropy_with_logits_v2(\n",
    "        logits=logits, labels=labels, dim=1))\n",
    "    \n",
    "    # 正确率\n",
    "    acc = tf.reduce_mean(\n",
    "        tf.cast(tf.equal(tf.argmax(labels, axis=1), tf.argmax(output, axis=1)),\n",
    "                tf.float32))\n",
    "\n",
    "\n",
    "with tf.Session(graph=g) as sess:\n",
    "    # 定义梯度下降法优化器\n",
    "    optim = tf.train.GradientDescentOptimizer(learning_rate=0.01)\n",
    "    train_op = optim.minimize(loss)\n",
    "    sess.run(tf.global_variables_initializer())\n",
    "    \n",
    "    # 训练模型\n",
    "    for step in range(20000):\n",
    "        batch_images, batch_labels = mnist.train.next_batch(32)\n",
    "        res_loss, _ = sess.run([loss, train_op], feed_dict={\n",
    "            inputs: batch_images,\n",
    "            labels: batch_labels\n",
    "        })\n",
    "        \n",
    "        # 输出代价并验证模型\n",
    "        if step % 500 == 0:\n",
    "            accs = []\n",
    "            for test_step in range(10000 // 32):\n",
    "                batch_images, batch_labels = mnist.test.next_batch(32)\n",
    "                res_acc = sess.run(acc, feed_dict={\n",
    "                    inputs: batch_images,\n",
    "                    labels: batch_labels\n",
    "                })\n",
    "                accs.append(res_acc)\n",
    "            accs = np.mean(accs)\n",
    "            print('step %5d, loss %2.4f, acc %.4f' % (step, res_loss, accs))"
   ]
  },
  {
   "cell_type": "markdown",
   "metadata": {},
   "source": [
    "## 高级API优点\n",
    "1.损失函数，规避噪声\n",
    "2.网络层初始化更加科学"
   ]
  },
  {
   "cell_type": "code",
   "execution_count": null,
   "metadata": {},
   "outputs": [],
   "source": []
  }
 ],
 "metadata": {
  "kernelspec": {
   "display_name": "Python 3",
   "language": "python",
   "name": "python3"
  },
  "language_info": {
   "codemirror_mode": {
    "name": "ipython",
    "version": 3
   },
   "file_extension": ".py",
   "mimetype": "text/x-python",
   "name": "python",
   "nbconvert_exporter": "python",
   "pygments_lexer": "ipython3",
   "version": "3.6.4"
  }
 },
 "nbformat": 4,
 "nbformat_minor": 2
}
